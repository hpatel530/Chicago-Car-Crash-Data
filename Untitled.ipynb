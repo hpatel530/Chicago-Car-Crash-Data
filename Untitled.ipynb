{
 "cells": [
  {
   "cell_type": "markdown",
   "metadata": {},
   "source": [
    "# Chicago Car Crash Data"
   ]
  },
  {
   "cell_type": "markdown",
   "metadata": {},
   "source": [
    "## Predicting Chicago Car Accidents & Injuries "
   ]
  },
  {
   "cell_type": "markdown",
   "metadata": {},
   "source": [
    "## By: Hiten Patel "
   ]
  },
  {
   "cell_type": "markdown",
   "metadata": {},
   "source": [
    "In an average span of four days, the city of Chicago will record over one thousand traffic accidents. When you include the drivers, passengers, pedestrians and cyclists, potentially over two thousand people will be involved and 45% of them will experience a minor to fatal injury. \n",
    "\n",
    "The goal is to create a classification model to predict what are the leading indicators to what causes an accident that can result in an injury. \n",
    "\n",
    "If successful and the City of Chicago implements our recommendations, Chicago will see a decrease in injuries and fatalities, decrease in traffic and an overall increase in safety for all citizens.  "
   ]
  },
  {
   "cell_type": "markdown",
   "metadata": {},
   "source": [
    "## Dataset"
   ]
  },
  {
   "cell_type": "markdown",
   "metadata": {},
   "source": [
    "The source for the datasets came from the City of Chicago Website. There were three datasets that we observed, \"Traffic Crashes - Crashes\", \"Traffic Crashes - Vehicle\", and \"Traffic Crashes - People\". Then we merged them into one database. "
   ]
  },
  {
   "cell_type": "markdown",
   "metadata": {},
   "source": [
    "Column names and descriptions can be found here; \n",
    "\n",
    "Traffic Crashes - Crashes: https://data.cityofchicago.org/Transportation/Traffic-Crashes-Crashes/85ca-t3if\n",
    "\n",
    "Traffic Crashes - Vehicle: https://data.cityofchicago.org/Transportation/Traffic-Crashes-Vehicles/68nd-jvt3\n",
    "\n",
    "Traffic Crashes - People:\n",
    "https://data.cityofchicago.org/Transportation/Traffic-Crashes-People/u6pd-qa9d"
   ]
  },
  {
   "cell_type": "markdown",
   "metadata": {},
   "source": [
    "## Methodology: O.S.E.M.N Framework"
   ]
  },
  {
   "cell_type": "markdown",
   "metadata": {},
   "source": [
    ">Obtain:\n",
    "* Extracting the data from the following files;\n",
    "    * Crash = https://data.cityofchicago.org/resource/85ca-t3if.csv\n",
    "    * Vehicle = https://data.cityofchicago.org/resource/68nd-jvt3.csv\n",
    "    * Person = https://data.cityofchicago.org/resource/u6pd-qa9d.csv\n",
    "\n",
    ">Scrub:\n",
    "* Explore the raw data set and understand the values\n",
    "* Understanding the null values and evaluating the best steps to take to eliminate them\n",
    "* Replacing values with meaningful data and converting data types\n",
    "* Deleting irrelevant and redundant columns \n",
    "\n",
    ">Explore:\n",
    "* Creating visualizations to better understand the data\n",
    "* Engineering New Columns \n",
    "* Deriving statistics from the data\n",
    "\n",
    ">Model:\n",
    " * Created multiple models including logistic regression, KNN, decision trees, bagging and random forest\n",
    " * Performed a gridsearch to each model to extract the best parameters \n",
    "\n",
    ">iNtrepret:\n",
    "* Evaluating the accuracy score which led to the Bagging(Random Forest) classifier as the best model"
   ]
  },
  {
   "cell_type": "markdown",
   "metadata": {},
   "source": [
    "## Results"
   ]
  },
  {
   "cell_type": "markdown",
   "metadata": {},
   "source": [
    "### Original Data"
   ]
  },
  {
   "cell_type": "markdown",
   "metadata": {},
   "source": [
    "The first steps to creating our model were to obtain and merge all three of the data sets into one. This created a table with 1289 entries and 149 columns. \n",
    "\n",
    "To trim the number of columns, we first calculated how many null values there were per column. Columns that had over 70% null values were removed and that calculation alone brought our column total to 74. \n",
    "\n",
    "Next, we removed redundant and irrelevant columns and this was decided by reviewing the \"column descriptions\" provided by the city of Chicago website. \n",
    "\n",
    "Furthermore, we either created bins or remapped the values to a more simple form to the following columns; \n",
    "   * crash_hour\n",
    "   * age\n",
    "   * posted_speed_limit\n",
    "   * traffic_control_device\n",
    "   * device_condition\n",
    "   * weather_condition\n",
    "   * first_crash_type\n",
    "   * road_defect\n",
    "   * vehicle_type\n",
    "   * safety equipment\n",
    "   * airbag_deployed\n",
    "   * driver_vision"
   ]
  },
  {
   "cell_type": "markdown",
   "metadata": {},
   "source": [
    "### Identifying Target"
   ]
  },
  {
   "cell_type": "markdown",
   "metadata": {},
   "source": [
    "The target column will be 'injuries_total'. The data will be converted to '1' if you had one or more injuries and '0' if you had none. The column has been renamed to 'Injured'. "
   ]
  },
  {
   "cell_type": "markdown",
   "metadata": {},
   "source": [
    "### Preprocessing"
   ]
  },
  {
   "cell_type": "markdown",
   "metadata": {},
   "source": [
    "Prior to preprocessing, we ran a train-test-split to ensure there will be no data leakage. \n",
    "\n",
    "At this point, the data had no numerical columns after the scrubbing and explore phase. For the categorical columns, we created a pipeline where the columns would go through a \"simpleimputer\" where missing values were filled with 'MISSING' and then push through a \"oneHotEncoder\" to create binary variables.\n",
    "\n",
    "The last step was to check if there was a class imbalance and there was not. The data was ready to proceed into the modeling stage. \n",
    "\n"
   ]
  },
  {
   "cell_type": "markdown",
   "metadata": {},
   "source": [
    "### Model"
   ]
  },
  {
   "cell_type": "markdown",
   "metadata": {},
   "source": [
    "The following models were tested which included logistic regression, k-nearest neighbors, decision trees, bagging-random forest and random forest.\n",
    "\n",
    "Bagging - random forest returned a 89% accuracy rate. As we observe the confusion matrix, when the model predicted 0 (not injured) and the result was not injured, the model was correct 99% of the time. When the model predicted 1 (injured) and the result was injured, it was correct 73% of the time. \n",
    "\n",
    "<img src =\"\">"
   ]
  },
  {
   "cell_type": "markdown",
   "metadata": {},
   "source": [
    "## iNtrepretation "
   ]
  },
  {
   "cell_type": "markdown",
   "metadata": {},
   "source": [
    "We extracted the 'feature_importance' from the bagging classifier and created the chart below.\n",
    "\n",
    "Crucial information is missing from two columns. First, airbag_deployed, this column could help tell us if an injury occurred or not occurred to a driver and second, vehicle_type, this column could help tell us which type of vehicles are most likely to get into a traffic accident.\n",
    "\n",
    "The next observation we can make is that the most type of traffic accidents are drivers colliding with pedestrians and cyclist. \n",
    "\n",
    "<img src = \"feature_importance.png\">"
   ]
  },
  {
   "cell_type": "markdown",
   "metadata": {},
   "source": [
    "The following graph shows the most involved types of units, meaning who is most likely involved within a traffic accident. We can also see the comparison who is injured and not injured. \n",
    "\n",
    "<img src =\"Screen Shot 2020-10-19 at 7.46.34 PM.png\">"
   ]
  },
  {
   "cell_type": "markdown",
   "metadata": {},
   "source": [
    "Furthermore, here is a graph to show the types of accidents that occur in Chicago and compares the not-injured/injured within each subset.\n",
    "\n",
    "<img src =\"Screen Shot 2020-10-19 at 7.47.33 PM.png\">"
   ]
  },
  {
   "cell_type": "markdown",
   "metadata": {},
   "source": [
    "In addition to, after reviewing the data, we saw another interesting pattern. The majority of traffic accidents occur where there are 30mph, 35mph or 40mph posted speed limit signs. \n",
    "\n",
    "<img src =\"time of day.png\" >"
   ]
  },
  {
   "cell_type": "markdown",
   "metadata": {},
   "source": [
    "## Conclusion"
   ]
  },
  {
   "cell_type": "markdown",
   "metadata": {},
   "source": [
    "Because the bagging classifier returned a 89% accuracy rate, we are confident in the following recommendations; \n",
    "* Ped/Cyclist should wear contrasting colors and should be more aware during afternoon/rush hour traffic\n",
    "* The city can increase traffic signs and lanes that are more ped/cyclist friendly \n",
    "* The city lowers the speed limit during afternoon/rush hour (specifically in 30-40 mph zones) "
   ]
  },
  {
   "cell_type": "markdown",
   "metadata": {},
   "source": [
    "## Future Work "
   ]
  },
  {
   "cell_type": "markdown",
   "metadata": {},
   "source": [
    "The next steps to improve our model would be;\n",
    "* retrieving driving records\n",
    "* merging weather data \n",
    "* investigate why traffic control devices are not present or not working\n",
    "* investigate why there is missing data"
   ]
  },
  {
   "cell_type": "code",
   "execution_count": null,
   "metadata": {},
   "outputs": [],
   "source": []
  }
 ],
 "metadata": {
  "kernelspec": {
   "display_name": "Python 3",
   "language": "python",
   "name": "python3"
  },
  "language_info": {
   "codemirror_mode": {
    "name": "ipython",
    "version": 3
   },
   "file_extension": ".py",
   "mimetype": "text/x-python",
   "name": "python",
   "nbconvert_exporter": "python",
   "pygments_lexer": "ipython3",
   "version": "3.6.9"
  },
  "toc": {
   "base_numbering": 1,
   "nav_menu": {},
   "number_sections": true,
   "sideBar": true,
   "skip_h1_title": false,
   "title_cell": "Table of Contents",
   "title_sidebar": "Contents",
   "toc_cell": false,
   "toc_position": {},
   "toc_section_display": true,
   "toc_window_display": false
  }
 },
 "nbformat": 4,
 "nbformat_minor": 2
}
